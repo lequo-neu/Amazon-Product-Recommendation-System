{
 "cells": [
  {
   "cell_type": "markdown",
   "metadata": {},
   "source": [
    "# Model-Based Collaborative Filtering (Matrix Factorization, ALS — explicit)\n",
    "\n",
    "**Goal**\n",
    "- Learn latent factors (P, Q) from 5-core TRAIN to predict ratings and recommend Top-N.\n",
    "\n",
    "**Pipeline**\n",
    "1) Load 5-core TRAIN (category) from `PROCESSED_DIR` (fallback `RAW_DIR`).\n",
    "2) Build sparse user–item matrix `R` (CSR). (Optional) user mean-centering.\n",
    "3) Train MF with ALS (explicit) on `R`.\n",
    "4) Save artifacts (P, Q, indexers…) for fast UI inference.\n",
    "5) Load & recommend (Top-N) for a user.\n",
    "\n",
    "**Why MF?**\n",
    "- Captures hidden tastes/themes.\n",
    "- Scales better than pure KNN; fast inference via dot products."
   ]
  },
  {
   "cell_type": "markdown",
   "metadata": {},
   "source": [
    "### Task: Importing Libraries and Modules"
   ]
  },
  {
   "cell_type": "code",
   "execution_count": 1,
   "metadata": {},
   "outputs": [
    {
     "name": "stderr",
     "output_type": "stream",
     "text": [
      "2025-09-28 10:50:50,648 - INFO - [Paths] PROCESSED_DIR=/Users/kevin/Documents/GitHub/Python/VESKL/Personal/NEU/NEU/NEU_7275/Prj/Prj_1/APRS_7275_G6/Amazon-Product-Recommendation-System/data/processed\n",
      "2025-09-28 10:50:50,650 - INFO - [Params] CATEGORY=['Electronics', 'Beauty_and_Personal_Care'] | N_RECS=10 | MEAN_CENTER=True\n"
     ]
    }
   ],
   "source": [
    "import os, sys, numpy as np, polars as pl, pickle, json\n",
    "from pathlib import Path\n",
    "from scipy.sparse import csr_matrix, save_npz, load_npz\n",
    "from sklearn.decomposition import TruncatedSVD\n",
    "\n",
    "# add utilities to PYTHONPATH\n",
    "module_path = os.path.abspath(os.path.join('..', '../utilities'))\n",
    "if module_path not in sys.path:\n",
    "    sys.path.append(module_path)\n",
    "\n",
    "from logger import Logger\n",
    "from configurations import Configurations\n",
    "\n",
    "# logger & paths\n",
    "logger = Logger(process_name=\"user_based\", log_file=Configurations.LOG_PATH)\n",
    "PROCESSED_DIR = Path(Configurations.DATA_PROCESSED_PATH)\n",
    "RAW_DIR = Path(Configurations.DATA_RAW_PATH)\n",
    "MODELS_DIR = Path(Configurations.MODELS_PATH)\n",
    "\n",
    "# runtime params (editable)\n",
    "CATEGORY    = Configurations.CATEGORIES\n",
    "N_FACTORS   = 50\n",
    "N_RECS      = 10\n",
    "MEAN_CENTER = True\n",
    "MAX_USERS   = None\n",
    "MAX_ITEMS   = None\n",
    "\n",
    "logger.log_info(f\"[Paths] PROCESSED_DIR={PROCESSED_DIR}\")\n",
    "logger.log_info(f\"[Params] CATEGORY={CATEGORY} | N_RECS={N_RECS} | MEAN_CENTER={MEAN_CENTER}\")\n"
   ]
  },
  {
   "cell_type": "markdown",
   "metadata": {},
   "source": [
    "### Task: Define Functions"
   ]
  },
  {
   "cell_type": "markdown",
   "metadata": {},
   "source": [
    "#### Loader & Matrix Builder"
   ]
  },
  {
   "cell_type": "code",
   "execution_count": 4,
   "metadata": {},
   "outputs": [],
   "source": [
    "def _candidate_model_files(category: str):\n",
    "    safe = category.replace('/', '-')\n",
    "    fname = f\"{safe}.5core.train.parquet\"\n",
    "    return [PROCESSED_DIR / fname]\n",
    "\n",
    "def load_5core_train_model(category: str) -> pl.DataFrame:\n",
    "    expected = ['user_id','parent_asin','rating','timestamp','history']\n",
    "    for p in _candidate_model_files(category):\n",
    "        if p.exists() and p.stat().st_size > 0:\n",
    "            logger.log_info(f\"[Load-Model] Reading {p.name}\")\n",
    "            df = pl.read_parquet(p)\n",
    "            miss = [c for c in expected if c not in df.columns]\n",
    "            if miss: raise ValueError(f\"Missing {miss} in {p}\")\n",
    "            df = df.select(expected)\n",
    "            # polars Expr doesn't have clip_min/clip_max in some versions;\n",
    "            # use when/then/otherwise to enforce rating bounds while casting.\n",
    "            df = df.with_columns([\n",
    "                pl.when(pl.col(\"rating\").cast(pl.Float32) < 1.0).then(1.0)\n",
    "                  .when(pl.col(\"rating\").cast(pl.Float32) > 5.0).then(5.0)\n",
    "                  .otherwise(pl.col(\"rating\").cast(pl.Float32))\n",
    "                  .alias(\"rating\"),\n",
    "                pl.col(\"user_id\").cast(pl.Utf8).alias(\"user_id\"),\n",
    "                pl.col(\"parent_asin\").cast(pl.Utf8).alias(\"parent_asin\")\n",
    "            ])\n",
    "            return df\n",
    "    raise FileNotFoundError(f\"5-core TRAIN not found for {category}\")\n",
    "\n",
    "def build_matrix_model(df_train: pl.DataFrame,\n",
    "                       max_users: int | None = None,\n",
    "                       max_items: int | None = None):\n",
    "    df = df_train.drop_nulls(subset=['user_id','parent_asin','rating']).with_columns(\n",
    "        pl.col(\"rating\").cast(pl.Float32)\n",
    "    )\n",
    "\n",
    "    if max_users is not None:\n",
    "        keep_users = df.select(pl.col(\"user_id\")).unique().to_series().to_list()[:max_users]\n",
    "        df = df.filter(pl.col(\"user_id\").is_in(keep_users))\n",
    "    if max_items is not None:\n",
    "        keep_items = df.select(pl.col(\"parent_asin\")).unique().to_series().to_list()[:max_items]\n",
    "        df = df.filter(pl.col(\"parent_asin\").is_in(keep_items))\n",
    "\n",
    "    user_rev = np.array(df.select(\"user_id\").unique().to_series().to_list(), dtype=object)\n",
    "    item_rev = np.array(df.select(\"parent_asin\").unique().to_series().to_list(), dtype=object)\n",
    "    user_idx = {uid: idx for idx, uid in enumerate(user_rev)}\n",
    "    item_idx = {iid: idx for idx, iid in enumerate(item_rev)}\n",
    "\n",
    "    u = np.array([user_idx[x] for x in df[\"user_id\"].to_list()], dtype=np.int32)\n",
    "    i = np.array([item_idx[x] for x in df[\"parent_asin\"].to_list()], dtype=np.int32)\n",
    "    v = np.array(df[\"rating\"].to_list(), dtype=np.float32)\n",
    "\n",
    "    nU, nI = user_rev.size, item_rev.size\n",
    "    R = csr_matrix((v, (u, i)), shape=(nU, nI), dtype=np.float32)\n",
    "\n",
    "    logger.log_info(f\"[Matrix-Model] R{R.shape} nnz={R.nnz}\")\n",
    "    return R, user_idx, item_idx, user_rev, item_rev\n"
   ]
  },
  {
   "cell_type": "markdown",
   "metadata": {},
   "source": [
    "#### Train & Save Model"
   ]
  },
  {
   "cell_type": "code",
   "execution_count": 5,
   "metadata": {},
   "outputs": [
    {
     "name": "stderr",
     "output_type": "stream",
     "text": [
      "2025-09-28 10:55:04,078 - INFO - [MODEL] Electronics\n",
      "2025-09-28 10:55:04,079 - INFO - [Load-Model] Reading Electronics.5core.train.parquet\n",
      "2025-09-28 10:55:13,681 - INFO - [Matrix-Model] R(1641026, 367052) nnz=12191484\n",
      "2025-09-28 10:55:42,429 - INFO - [MODEL] Beauty_and_Personal_Care\n",
      "2025-09-28 10:55:42,431 - INFO - [Load-Model] Reading Beauty_and_Personal_Care.5core.train.parquet\n",
      "2025-09-28 10:55:47,707 - INFO - [Matrix-Model] R(729576, 207385) nnz=5165289\n",
      "2025-09-28 10:56:00,666 - INFO - [Summary-MODEL] trained=2 ok=2 fail=0\n"
     ]
    },
    {
     "data": {
      "text/html": [
       "<div><style>\n",
       ".dataframe > thead > tr,\n",
       ".dataframe > tbody > tr {\n",
       "  text-align: right;\n",
       "  white-space: pre-wrap;\n",
       "}\n",
       "</style>\n",
       "<small>shape: (2, 7)</small><table border=\"1\" class=\"dataframe\"><thead><tr><th>category</th><th>algo</th><th>models_dir</th><th>n_factors</th><th>users</th><th>items</th><th>R_nnz</th></tr><tr><td>str</td><td>str</td><td>str</td><td>i64</td><td>i64</td><td>i64</td><td>i64</td></tr></thead><tbody><tr><td>&quot;Electronics&quot;</td><td>&quot;model&quot;</td><td>&quot;/Users/kevin/Documents/GitHub/…</td><td>50</td><td>1641026</td><td>367052</td><td>12191484</td></tr><tr><td>&quot;Beauty_and_Personal_Care&quot;</td><td>&quot;model&quot;</td><td>&quot;/Users/kevin/Documents/GitHub/…</td><td>50</td><td>729576</td><td>207385</td><td>5165289</td></tr></tbody></table></div>"
      ],
      "text/plain": [
       "shape: (2, 7)\n",
       "┌────────────────────────┬───────┬───────────────────────┬───────────┬─────────┬────────┬──────────┐\n",
       "│ category               ┆ algo  ┆ models_dir            ┆ n_factors ┆ users   ┆ items  ┆ R_nnz    │\n",
       "│ ---                    ┆ ---   ┆ ---                   ┆ ---       ┆ ---     ┆ ---    ┆ ---      │\n",
       "│ str                    ┆ str   ┆ str                   ┆ i64       ┆ i64     ┆ i64    ┆ i64      │\n",
       "╞════════════════════════╪═══════╪═══════════════════════╪═══════════╪═════════╪════════╪══════════╡\n",
       "│ Electronics            ┆ model ┆ /Users/kevin/Document ┆ 50        ┆ 1641026 ┆ 367052 ┆ 12191484 │\n",
       "│                        ┆       ┆ s/GitHub/…            ┆           ┆         ┆        ┆          │\n",
       "│ Beauty_and_Personal_Ca ┆ model ┆ /Users/kevin/Document ┆ 50        ┆ 729576  ┆ 207385 ┆ 5165289  │\n",
       "│ re                     ┆       ┆ s/GitHub/…            ┆           ┆         ┆        ┆          │\n",
       "└────────────────────────┴───────┴───────────────────────┴───────────┴─────────┴────────┴──────────┘"
      ]
     },
     "metadata": {},
     "output_type": "display_data"
    }
   ],
   "source": [
    "def train_model_based_for_categories(\n",
    "    categories: list[str],\n",
    "    n_factors: int = N_FACTORS,\n",
    "    max_users: int | None = None,\n",
    "    max_items: int | None = None,\n",
    "    models_dir: str | Path | None = None\n",
    ") -> pl.DataFrame:\n",
    "    \"\"\"\n",
    "    Train model-based CF (TruncatedSVD) for categories and save artifacts.\n",
    "    Returns a polars DataFrame summary (no pandas used).\n",
    "    \"\"\"\n",
    "    base_out = Path(models_dir) if models_dir else MODELS_DIR\n",
    "    out_algo = base_out / \"model\"\n",
    "    out_algo.mkdir(parents=True, exist_ok=True)\n",
    "\n",
    "    rows = []\n",
    "    for cat in categories:\n",
    "        try:\n",
    "            logger.log_info(f\"[MODEL] {cat}\")\n",
    "            df_train = load_5core_train_model(cat)\n",
    "            R, user_idx, item_idx, user_rev, item_rev = build_matrix_model(\n",
    "                df_train, max_users=max_users, max_items=max_items\n",
    "            )\n",
    "\n",
    "            svd = TruncatedSVD(n_components=n_factors, random_state=42)\n",
    "            U = svd.fit_transform(R)\n",
    "            V = svd.components_.T\n",
    "\n",
    "            out_dir = out_algo / cat\n",
    "            out_dir.mkdir(parents=True, exist_ok=True)\n",
    "\n",
    "            save_npz(out_dir / \"R.npz\", R)\n",
    "            np.save(out_dir / \"U.npy\", U)\n",
    "            np.save(out_dir / \"V.npy\", V)\n",
    "            with open(out_dir / \"user_rev.pkl\", \"wb\") as f: pickle.dump(user_rev, f)\n",
    "            with open(out_dir / \"item_rev.pkl\", \"wb\") as f: pickle.dump(item_rev, f)\n",
    "            with open(out_dir / \"user_idx.json\", \"w\") as f: json.dump({str(k): int(v) for k,v in user_idx.items()}, f)\n",
    "            with open(out_dir / \"item_idx.json\", \"w\") as f: json.dump({str(k): int(v) for k,v in item_idx.items()}, f)\n",
    "\n",
    "            rows.append({\n",
    "                \"category\": cat,\n",
    "                \"algo\": \"model\",\n",
    "                \"models_dir\": str(out_dir),\n",
    "                \"n_factors\": n_factors,\n",
    "                \"users\": len(user_rev),\n",
    "                \"items\": len(item_rev),\n",
    "                \"R_nnz\": int(R.nnz)\n",
    "            })\n",
    "\n",
    "        except Exception as e:\n",
    "            logger.log_exception(f\"[Error-MODEL] {cat}: {e}\")\n",
    "            rows.append({\n",
    "                \"category\": cat,\n",
    "                \"algo\": \"model\",\n",
    "                \"models_dir\": None,\n",
    "                \"n_factors\": n_factors,\n",
    "                \"error\": str(e)\n",
    "            })\n",
    "\n",
    "    summary = pl.DataFrame(rows)\n",
    "    logger.log_info(f\"[Summary-MODEL] trained={len(categories)} ok={summary.filter(pl.col('models_dir').is_not_null()).height} fail={summary.filter(pl.col('models_dir').is_null()).height}\")\n",
    "    return summary\n",
    "\n",
    "summary_model = train_model_based_for_categories(CATEGORY, max_users=MAX_USERS, max_items=MAX_ITEMS, models_dir=MODELS_DIR)\n",
    "display(summary_model)\n"
   ]
  },
  {
   "cell_type": "markdown",
   "metadata": {},
   "source": [
    "#### Recommend with Model-Based"
   ]
  },
  {
   "cell_type": "code",
   "execution_count": 6,
   "metadata": {},
   "outputs": [],
   "source": [
    "def recommend_model_ui(user_id: str,\n",
    "                       n_recs: int = 10,\n",
    "                       category: str = CATEGORY,\n",
    "                       models_dir: str | Path | None = None):\n",
    "    out_dir = Path(models_dir or MODELS_DIR) / \"model\" / category\n",
    "    U = np.load(out_dir / \"U.npy\")\n",
    "    V = np.load(out_dir / \"V.npy\")\n",
    "    with open(out_dir / \"user_rev.pkl\",\"rb\") as f: user_rev = pickle.load(f)\n",
    "    with open(out_dir / \"item_rev.pkl\",\"rb\") as f: item_rev = pickle.load(f)\n",
    "    with open(out_dir / \"user_idx.json\",\"r\") as f: user_idx = {k:int(v) for k,v in json.load(f).items()}\n",
    "\n",
    "    if user_id not in user_idx:\n",
    "        return pl.DataFrame({\"parent_asin\": pl.Series([], dtype=pl.Utf8),\n",
    "                             \"score\": pl.Series([], dtype=pl.Float32)})\n",
    "    uidx = user_idx[user_id]\n",
    "\n",
    "    scores = U[uidx] @ V.T\n",
    "    k = min(n_recs, scores.size)\n",
    "    if k == 0:\n",
    "        return pl.DataFrame({\"parent_asin\": pl.Series([], dtype=pl.Utf8),\n",
    "                             \"score\": pl.Series([], dtype=pl.Float32)})\n",
    "\n",
    "    top_idx = np.argpartition(-scores, k-1)[:k]\n",
    "    top_idx = top_idx[np.argsort(-scores[top_idx])]\n",
    "\n",
    "    rec_asins  = [item_rev[i] for i in top_idx]\n",
    "    rec_scores = [float(s) for s in scores[top_idx]]\n",
    "    return pl.DataFrame({\"parent_asin\": rec_asins, \"score\": rec_scores})"
   ]
  },
  {
   "cell_type": "markdown",
   "metadata": {},
   "source": [
    "#### Receive UI request then using models to reply"
   ]
  },
  {
   "cell_type": "code",
   "execution_count": 9,
   "metadata": {},
   "outputs": [],
   "source": [
    "def unit_test_model_recommend(user_id: str, n_recs: int = 5, category: str = CATEGORY):\n",
    "    recs = recommend_model_ui(user_id=user_id, n_recs=n_recs, category=category)\n",
    "    assert isinstance(recs, pl.DataFrame)\n",
    "    assert {\"parent_asin\",\"score\"}.issubset(recs.columns)\n",
    "    logger.log_info(f\"[UnitTest-Model] user={user_id} → {len(recs)} recs ✅\")\n",
    "    display(recs)\n",
    "    return recs"
   ]
  },
  {
   "cell_type": "markdown",
   "metadata": {},
   "source": [
    "### Task: Unit test"
   ]
  },
  {
   "cell_type": "markdown",
   "metadata": {},
   "source": [
    "#### Reply from UI using models"
   ]
  },
  {
   "cell_type": "code",
   "execution_count": 10,
   "metadata": {},
   "outputs": [
    {
     "name": "stderr",
     "output_type": "stream",
     "text": [
      "2025-09-28 10:57:23,342 - INFO - [UnitTest-Model] user=AE222HFVDJ4TJ4V2LDRIAMQM2RPA → 5 recs ✅\n"
     ]
    },
    {
     "data": {
      "text/html": [
       "<div><style>\n",
       ".dataframe > thead > tr,\n",
       ".dataframe > tbody > tr {\n",
       "  text-align: right;\n",
       "  white-space: pre-wrap;\n",
       "}\n",
       "</style>\n",
       "<small>shape: (5, 2)</small><table border=\"1\" class=\"dataframe\"><thead><tr><th>parent_asin</th><th>score</th></tr><tr><td>str</td><td>f64</td></tr></thead><tbody><tr><td>&quot;B075KP9XHS&quot;</td><td>0.00475</td></tr><tr><td>&quot;B00AJHDZSI&quot;</td><td>0.003947</td></tr><tr><td>&quot;B06ZZCZS7R&quot;</td><td>0.003537</td></tr><tr><td>&quot;B09SXP5VB5&quot;</td><td>0.003281</td></tr><tr><td>&quot;B00HEEOQBO&quot;</td><td>0.003177</td></tr></tbody></table></div>"
      ],
      "text/plain": [
       "shape: (5, 2)\n",
       "┌─────────────┬──────────┐\n",
       "│ parent_asin ┆ score    │\n",
       "│ ---         ┆ ---      │\n",
       "│ str         ┆ f64      │\n",
       "╞═════════════╪══════════╡\n",
       "│ B075KP9XHS  ┆ 0.00475  │\n",
       "│ B00AJHDZSI  ┆ 0.003947 │\n",
       "│ B06ZZCZS7R  ┆ 0.003537 │\n",
       "│ B09SXP5VB5  ┆ 0.003281 │\n",
       "│ B00HEEOQBO  ┆ 0.003177 │\n",
       "└─────────────┴──────────┘"
      ]
     },
     "metadata": {},
     "output_type": "display_data"
    },
    {
     "data": {
      "text/html": [
       "<div><style>\n",
       ".dataframe > thead > tr,\n",
       ".dataframe > tbody > tr {\n",
       "  text-align: right;\n",
       "  white-space: pre-wrap;\n",
       "}\n",
       "</style>\n",
       "<small>shape: (5, 2)</small><table border=\"1\" class=\"dataframe\"><thead><tr><th>parent_asin</th><th>score</th></tr><tr><td>str</td><td>f64</td></tr></thead><tbody><tr><td>&quot;B075KP9XHS&quot;</td><td>0.00475</td></tr><tr><td>&quot;B00AJHDZSI&quot;</td><td>0.003947</td></tr><tr><td>&quot;B06ZZCZS7R&quot;</td><td>0.003537</td></tr><tr><td>&quot;B09SXP5VB5&quot;</td><td>0.003281</td></tr><tr><td>&quot;B00HEEOQBO&quot;</td><td>0.003177</td></tr></tbody></table></div>"
      ],
      "text/plain": [
       "shape: (5, 2)\n",
       "┌─────────────┬──────────┐\n",
       "│ parent_asin ┆ score    │\n",
       "│ ---         ┆ ---      │\n",
       "│ str         ┆ f64      │\n",
       "╞═════════════╪══════════╡\n",
       "│ B075KP9XHS  ┆ 0.00475  │\n",
       "│ B00AJHDZSI  ┆ 0.003947 │\n",
       "│ B06ZZCZS7R  ┆ 0.003537 │\n",
       "│ B09SXP5VB5  ┆ 0.003281 │\n",
       "│ B00HEEOQBO  ┆ 0.003177 │\n",
       "└─────────────┴──────────┘"
      ]
     },
     "execution_count": 10,
     "metadata": {},
     "output_type": "execute_result"
    }
   ],
   "source": [
    "unit_test_model_recommend(user_id=\"AE222HFVDJ4TJ4V2LDRIAMQM2RPA\", n_recs=5, category=CATEGORY[0])"
   ]
  }
 ],
 "metadata": {
  "kernelspec": {
   "display_name": ".venv",
   "language": "python",
   "name": "python3"
  },
  "language_info": {
   "codemirror_mode": {
    "name": "ipython",
    "version": 3
   },
   "file_extension": ".py",
   "mimetype": "text/x-python",
   "name": "python",
   "nbconvert_exporter": "python",
   "pygments_lexer": "ipython3",
   "version": "3.13.7"
  }
 },
 "nbformat": 4,
 "nbformat_minor": 2
}
