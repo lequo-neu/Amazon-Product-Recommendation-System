{
 "cells": [
  {
   "cell_type": "markdown",
   "metadata": {},
   "source": [
    "# User-Based Collaborative Filtering (5-core • TRAIN)\n",
    "\n",
    "**Goal**\n",
    "- Build a user-based CF recommender on **5-core / TRAIN** for a given category.\n",
    "- Use sparse matrices + cosine neighbors for scalability.\n",
    "- Produce Top-N recommendations for one user or a batch of users.\n",
    "\n",
    "**What this notebook does**\n",
    "1. Load 5-core **TRAIN** from `PROCESSED_DIR` (fallback `RAW_DIR`) with schema:\n",
    "   - `user_id`, `parent_asin`, `rating`, `timestamp`, `history`\n",
    "2. Build a **user–item** sparse matrix (CSR).\n",
    "3. Compute **top-K nearest neighbors** per user (cosine).\n",
    "4. Predict scores for **unseen items** and generate **Top-N** recommendations.\n",
    "5. (Optional) Save recommendations to disk for UI integration.\n",
    "\n",
    "> Notes:\n",
    "> - We compute neighbors via `NearestNeighbors(metric='cosine', algorithm='brute')` on sparse CSR to avoid full dense similarity.\n",
    "> - Ratings may be mean-centered per user internally (option), and added back for prediction."
   ]
  },
  {
   "cell_type": "markdown",
   "metadata": {},
   "source": [
    "### Task: Import modules and libraries"
   ]
  },
  {
   "cell_type": "code",
   "execution_count": 4,
   "metadata": {},
   "outputs": [
    {
     "name": "stderr",
     "output_type": "stream",
     "text": [
      "2025-09-28 10:13:58,951 - INFO - [Paths] PROCESSED_DIR=/Users/kevin/Documents/GitHub/Python/VESKL/Personal/NEU/NEU/NEU_7275/Prj/Prj_1/APRS_7275_G6/Amazon-Product-Recommendation-System/data/processed\n",
      "2025-09-28 10:13:58,951 - INFO - [Params] CATEGORY=['Electronics', 'Beauty_and_Personal_Care'] | K_NEIGHBORS=30 | N_RECS=10 | MEAN_CENTER=True\n"
     ]
    }
   ],
   "source": [
    "import os, sys, json, pickle\n",
    "import numpy as np, polars as pl\n",
    "from pathlib import Path\n",
    "from scipy.sparse import csr_matrix, save_npz, load_npz\n",
    "from sklearn.neighbors import NearestNeighbors\n",
    "\n",
    "# Add utilities to PYTHONPATH\n",
    "module_path = os.path.abspath(os.path.join('..', '../utilities'))\n",
    "sys.path.append(module_path)\n",
    "\n",
    "from logger import Logger\n",
    "from configurations import Configurations\n",
    "\n",
    "# --- Logger ---\n",
    "m_log_file = Configurations.LOG_PATH\n",
    "logger = Logger(process_name=\"user_based\", log_file=m_log_file)\n",
    "\n",
    "# --- Paths ---\n",
    "PROCESSED_DIR = Path(Configurations.DATA_PROCESSED_PATH)\n",
    "RAW_DIR = Path(Configurations.DATA_RAW_PATH)\n",
    "logger.log_info(f\"[Paths] PROCESSED_DIR={PROCESSED_DIR}\")\n",
    "\n",
    "# --- TRAINING MODELS ---\n",
    "MODELS_DIR = Path(Configurations.MODELS_PATH)\n",
    "\n",
    "# --- Runtime params (edit here) ---\n",
    "CATEGORY      = Configurations.CATEGORIES      # e.g., \"Electronics\" or \"Beauty_and_Personal_Care\"\n",
    "K_NEIGHBORS   = 30                 # user-based top-K neighbors\n",
    "N_RECS        = 10                 # number of recommended items\n",
    "MEAN_CENTER   = True               # whether to mean-center per user for similarity/prediction\n",
    "MAX_USERS     = None               # e.g., 50_000 to sample users for quick experiments\n",
    "MAX_ITEMS     = None               # e.g., 50_000 to sample items for quick experiments\n",
    "\n",
    "logger.log_info(f\"[Params] CATEGORY={CATEGORY} | K_NEIGHBORS={K_NEIGHBORS} | N_RECS={N_RECS} | MEAN_CENTER={MEAN_CENTER}\")"
   ]
  },
  {
   "cell_type": "markdown",
   "metadata": {},
   "source": [
    "### Task: Define functions"
   ]
  },
  {
   "cell_type": "markdown",
   "metadata": {},
   "source": [
    "#### Data Loader"
   ]
  },
  {
   "cell_type": "code",
   "execution_count": 23,
   "metadata": {},
   "outputs": [],
   "source": [
    "def _candidate_user_files(category: str):\n",
    "    safe = category.replace('/', '-')\n",
    "    fname = f\"{safe}.5core.train.parquet\"\n",
    "    return [PROCESSED_DIR / fname, RAW_DIR / fname]\n",
    "\n",
    "def _coerce_ts_seconds(ts: pl.Series) -> pl.Series:\n",
    "    x = pd.to_numeric(ts, errors='coerce')\n",
    "    if x.dropna().gt(10**12).mean() > 0.5:\n",
    "        x = x // 1000\n",
    "    return x.astype('Int64')\n",
    "\n",
    "def load_5core_train_user(category: str) -> pd.DataFrame:\n",
    "    expected = ['user_id', 'parent_asin', 'rating', 'timestamp', 'history']\n",
    "    for p in _candidate_user_files(category):\n",
    "        if not (p.exists() and p.stat().st_size > 0):\n",
    "            continue\n",
    "        logger.log_info(f\"[Load-User] Reading: {p.name}\")\n",
    "        df = pl.read_parquet(p, low_memory=False)\n",
    "        miss = [c for c in expected if c not in df.columns]\n",
    "        if miss:\n",
    "            raise ValueError(f\"Missing columns {miss} in {p}\")\n",
    "        df = df[expected].__copy__()\n",
    "        # df['rating'] = pl.to_numeric(df['rating'], errors='coerce').clip(1, 5).astype('float32')\n",
    "        # df['timestamp'] = _coerce_ts_seconds(df['timestamp'])\n",
    "        # df['user_id'] = df['user_id'].astype('category')\n",
    "        # df['parent_asin'] = df['parent_asin'].astype('category')\n",
    "        logger.log_info(f\"[Load-User] shape={df.shape} | users={df['user_id'].unique()} | items={df['parent_asin'].unique()}\")\n",
    "        return df\n",
    "    raise FileNotFoundError(f\"5-core TRAIN not found for {category}\")\n"
   ]
  },
  {
   "cell_type": "markdown",
   "metadata": {},
   "source": [
    "#### Build Sparse Matrix & Indexers"
   ]
  },
  {
   "cell_type": "code",
   "execution_count": 27,
   "metadata": {},
   "outputs": [],
   "source": [
    "def build_user_matrices(df_train: pl.DataFrame, mean_center: bool = True,\n",
    "                        max_users: int | None = None, max_items: int | None = None):\n",
    "    # Keep only relevant columns using polars API\n",
    "    df = df_train.select(['user_id', 'parent_asin', 'rating']).with_columns(\n",
    "        pl.col('rating').cast(pl.Float32)\n",
    "    )\n",
    "\n",
    "    # Optionally limit number of users/items (take first-seen unique values)\n",
    "    if max_users is not None:\n",
    "        first_users = df['user_id'].unique()[:max_users].to_list()\n",
    "        df = df.filter(pl.col('user_id').is_in(first_users))\n",
    "    if max_items is not None:\n",
    "        first_items = df['parent_asin'].unique()[:max_items].to_list()\n",
    "        df = df.filter(pl.col('parent_asin').is_in(first_items))\n",
    "\n",
    "    # Build reverse lists and index mappings (use order of first appearance)\n",
    "    user_rev = df['user_id'].unique().to_list()\n",
    "    item_rev = df['parent_asin'].unique().to_list()\n",
    "    user_idx = {u_id: idx for idx, u_id in enumerate(user_rev)}\n",
    "    item_idx = {a_id: idx for idx, a_id in enumerate(item_rev)}\n",
    "\n",
    "    # Map rows to integer indices and ratings arrays\n",
    "    u = np.array([user_idx[x] for x in df['user_id'].to_list()], dtype=np.int32)\n",
    "    i = np.array([item_idx[x] for x in df['parent_asin'].to_list()], dtype=np.int32)\n",
    "    v = np.array(df['rating'].to_list(), dtype=np.float32)\n",
    "\n",
    "    nU = len(user_rev)\n",
    "    nI = len(item_rev)\n",
    "    R = csr_matrix((v, (u, i)), shape=(nU, nI), dtype=np.float32)\n",
    "\n",
    "    user_means = np.zeros(nU, dtype=np.float32)\n",
    "    Rc = None\n",
    "    if mean_center:\n",
    "        Rc = R.copy().astype(np.float32)\n",
    "        row_sums = np.array(R.sum(axis=1)).ravel().astype(np.float32)\n",
    "        row_cnts = np.diff(R.indptr).astype(np.int32)\n",
    "        with np.errstate(divide='ignore', invalid='ignore'):\n",
    "            user_means = np.where(row_cnts > 0, row_sums / row_cnts, 0.0).astype(np.float32)\n",
    "        if Rc.nnz:\n",
    "            Rc.data -= np.repeat(user_means, row_cnts)\n",
    "\n",
    "    user_rev_arr = np.array(user_rev, dtype=object)\n",
    "    item_rev_arr = np.array(item_rev, dtype=object)\n",
    "\n",
    "    logger.log_info(f\"[Matrix-User] R{R.shape} nnz={R.nnz}\")\n",
    "    return R, Rc, user_idx, item_idx, user_rev_arr, item_rev_arr, user_means\n"
   ]
  },
  {
   "cell_type": "markdown",
   "metadata": {},
   "source": [
    "#### load_user_artifacts"
   ]
  },
  {
   "cell_type": "code",
   "execution_count": 8,
   "metadata": {},
   "outputs": [],
   "source": [
    "def _load_user_artifacts(model_dir: str | Path):\n",
    "    md = Path(model_dir)\n",
    "    R  = load_npz(md / \"R.npz\")\n",
    "    Rc = load_npz(md / \"Rc.npz\") if (md / \"Rc.npz\").exists() else None\n",
    "    user_means = np.load(md / \"user_means.npy\")\n",
    "    with open(md / \"user_rev.pkl\", \"rb\") as f: user_rev = pickle.load(f)\n",
    "    with open(md / \"item_rev.pkl\", \"rb\") as f: item_rev = pickle.load(f)\n",
    "    user_idx = {k: int(v) for k, v in json.loads((md / \"user_idx.json\").read_text()).items()}\n",
    "    item_idx = {k: int(v) for k, v in json.loads((md / \"item_idx.json\").read_text()).items()}\n",
    "    with open(md / \"nn_model.pkl\", \"rb\") as f: nn_model = pickle.load(f)\n",
    "    return dict(R=R, Rc=Rc, user_means=user_means, user_rev=user_rev, item_rev=item_rev,\n",
    "                user_idx=user_idx, item_idx=item_idx, nn_model=nn_model)"
   ]
  },
  {
   "cell_type": "markdown",
   "metadata": {},
   "source": [
    "#### Nearest Neighbors (User–User)"
   ]
  },
  {
   "cell_type": "code",
   "execution_count": 9,
   "metadata": {},
   "outputs": [],
   "source": [
    "def fit_user_neighbors_userbased(X: csr_matrix, k_neighbors: int = 30) -> NearestNeighbors:\n",
    "    nn = NearestNeighbors(metric='cosine', algorithm='brute',\n",
    "                          n_neighbors=min(k_neighbors+1, X.shape[0]))\n",
    "    nn.fit(X)\n",
    "    logger.log_info(f\"[NN-User] fitted on {X.shape} | k={k_neighbors}\")\n",
    "    return nn"
   ]
  },
  {
   "cell_type": "markdown",
   "metadata": {},
   "source": [
    "#### Predict & Recommend"
   ]
  },
  {
   "cell_type": "code",
   "execution_count": 11,
   "metadata": {},
   "outputs": [],
   "source": [
    "def recommend_user_ui(user_id: str, n_recs: int = 5, k_neighbors: int | None = None,\n",
    "                      models_dir: str | Path | None = None, category: str | None = None) -> pl.DataFrame:\n",
    "    \"\"\"UI → recommend using persisted USER-based artifacts (compact implementation).\"\"\"\n",
    "    cat = category or CATEGORY\n",
    "    model_dir = Path(models_dir) if models_dir else (MODELS_DIR / \"user\" / cat)\n",
    "    art = _load_user_artifacts(model_dir)\n",
    "\n",
    "    R, Rc, user_means = art[\"R\"], art[\"Rc\"], art[\"user_means\"]\n",
    "    nn_model, user_idx, item_rev = art[\"nn_model\"], art[\"user_idx\"], art[\"item_rev\"]\n",
    "\n",
    "    if user_id not in user_idx:\n",
    "        logger.log_warning(f\"[UI-USER] user_id={user_id} not found.\")\n",
    "        return pl.DataFrame(columns=[\"parent_asin\", \"score\"])\n",
    "\n",
    "    u = user_idx[user_id]\n",
    "    X = Rc if Rc is not None else R\n",
    "\n",
    "    distances, indices = nn_model.kneighbors(X.getrow(u), return_distance=True)\n",
    "    d, idx = distances.ravel(), indices.ravel()\n",
    "    # remove self if present\n",
    "    mask = idx != u\n",
    "    idx, d = idx[mask], d[mask]\n",
    "    if k_neighbors is not None:\n",
    "        idx, d = idx[:k_neighbors], d[:k_neighbors]\n",
    "    if idx.size == 0:\n",
    "        return pl.DataFrame(columns=[\"parent_asin\", \"score\"])\n",
    "\n",
    "    sims = np.clip(1.0 - d, 0.0, 1.0)\n",
    "    denom = np.sum(np.abs(sims)) + 1e-8\n",
    "    scores = X[idx, :].T.dot(sims) / denom\n",
    "    if Rc is not None:\n",
    "        scores = scores + user_means[u]\n",
    "\n",
    "    rated = set(R.getrow(u).indices.tolist())\n",
    "    cand_mask = np.ones(R.shape[1], dtype=bool)\n",
    "    if rated:\n",
    "        cand_mask[list(rated)] = False\n",
    "    cand_indices = np.nonzero(cand_mask)[0]\n",
    "    if cand_indices.size == 0:\n",
    "        return pl.DataFrame(columns=[\"parent_asin\", \"score\"])\n",
    "\n",
    "    cand_scores = scores[cand_mask]\n",
    "    n_top = min(n_recs, cand_scores.size)\n",
    "    if n_top <= 0:\n",
    "        return pl.DataFrame(columns=[\"parent_asin\", \"score\"])\n",
    "\n",
    "    top_pos = np.argpartition(-cand_scores, n_top - 1)[:n_top]\n",
    "    picked = sorted([(int(cand_indices[p]), float(cand_scores[p])) for p in top_pos], key=lambda x: -x[1])\n",
    "\n",
    "    rec_asins = [item_rev[i] for i, _ in picked]\n",
    "    rec_scores = [s for _, s in picked]\n",
    "    return pl.DataFrame({\"parent_asin\": rec_asins, \"score\": rec_scores})"
   ]
  },
  {
   "cell_type": "markdown",
   "metadata": {},
   "source": [
    "#### run_user_base_CF"
   ]
  },
  {
   "cell_type": "code",
   "execution_count": 14,
   "metadata": {},
   "outputs": [],
   "source": [
    "def run_user_base_CF(\n",
    "    category: str = None,\n",
    "    k_neighbors: int = None,\n",
    "    n_recs: int = None,\n",
    "    mean_center: bool = None,\n",
    "    max_users: int = None,\n",
    "    max_items: int = None,\n",
    "    target_user=None\n",
    "):\n",
    "    \"\"\"Compact end-to-end runner for user-based CF (returns recs, artifacts).\"\"\"\n",
    "    _cat = category or CATEGORY\n",
    "    _k = k_neighbors if k_neighbors is not None else K_NEIGHBORS\n",
    "    _n = n_recs if n_recs is not None else N_RECS\n",
    "    _mc = MEAN_CENTER if mean_center is None else mean_center\n",
    "\n",
    "    logger.log_info(f\"[Run] cat={_cat} | k={_k} | n={_n} | mean_center={_mc}\")\n",
    "\n",
    "    df_train = load_5core_train_user(_cat)\n",
    "    R, Rc, user_idx, item_idx, user_rev, item_rev, user_means = build_user_matrices(\n",
    "        df_train, mean_center=_mc, max_users=max_users, max_items=max_items\n",
    "    )\n",
    "\n",
    "    X = Rc if Rc is not None else R\n",
    "    nn_model = fit_user_neighbors_userbased(X, k_neighbors=_k)\n",
    "\n",
    "    # pick target user (try raw then str)\n",
    "    if target_user is None:\n",
    "        target_user = user_rev[0]\n",
    "    if target_user not in user_idx:\n",
    "        tstr = str(target_user)\n",
    "        if tstr in user_idx:\n",
    "            target_user = tstr\n",
    "        else:\n",
    "            target_user = user_rev[0]\n",
    "            logger.log_warning(\"[Run] target_user not found; using first user\")\n",
    "\n",
    "    u = user_idx[target_user]\n",
    "    dists, inds = nn_model.kneighbors(X.getrow(u), return_distance=True)\n",
    "    d = dists.ravel(); inds = inds.ravel()\n",
    "    mask = inds != u\n",
    "    inds, d = inds[mask], d[mask]\n",
    "    if inds.size == 0:\n",
    "        return pl.DataFrame(columns=[\"parent_asin\",\"score\"]), {\"R\":R,\"Rc\":Rc,\"user_idx\":user_idx,\"item_idx\":item_idx}\n",
    "\n",
    "    sims = np.clip(1.0 - d, 0.0, 1.0)\n",
    "    denom = np.sum(np.abs(sims)) + 1e-8\n",
    "    scores = X[inds, :].T.dot(sims) / denom\n",
    "    if Rc is not None:\n",
    "        scores = scores + user_means[u]\n",
    "\n",
    "    rated = set(R.getrow(u).indices.tolist())\n",
    "    cand_mask = np.ones(R.shape[1], dtype=bool)\n",
    "    if rated:\n",
    "        cand_mask[list(rated)] = False\n",
    "    cand_scores = scores[cand_mask]\n",
    "    if cand_scores.size == 0:\n",
    "        return pl.DataFrame(columns=[\"parent_asin\",\"score\"]), {\"R\":R,\"Rc\":Rc,\"user_idx\":user_idx,\"item_idx\":item_idx}\n",
    "\n",
    "    n_top = min(_n, cand_scores.size)\n",
    "    top_pos = np.argpartition(-cand_scores, n_top - 1)[:n_top]\n",
    "    cand_indices = np.nonzero(cand_mask)[0]\n",
    "    picked = sorted(((int(cand_indices[p]), float(cand_scores[p])) for p in top_pos), key=lambda x: -x[1])\n",
    "\n",
    "    recs = pl.DataFrame({\"parent_asin\": [item_rev[i] for i, _ in picked], \"score\": [s for _, s in picked]})\n",
    "    artifacts = dict(R=R, Rc=Rc, user_idx=user_idx, item_idx=item_idx,\n",
    "                     user_rev=user_rev, item_rev=item_rev, user_means=user_means,\n",
    "                     nn_model=nn_model, df_train=df_train, target_user=target_user)\n",
    "    logger.log_info(f\"[Run] Generated {len(recs)} recs for user={target_user}\")\n",
    "    return recs, artifacts\n"
   ]
  },
  {
   "cell_type": "markdown",
   "metadata": {},
   "source": [
    "#### training models for list categories"
   ]
  },
  {
   "cell_type": "code",
   "execution_count": 28,
   "metadata": {},
   "outputs": [
    {
     "name": "stderr",
     "output_type": "stream",
     "text": [
      "2025-09-28 10:28:45,900 - INFO - [USER] Training Electronics\n",
      "2025-09-28 10:28:45,901 - INFO - [Load-User] Reading: Electronics.5core.train.parquet\n",
      "2025-09-28 10:28:48,550 - INFO - [Load-User] shape=(12191484, 5) | users=shape: (1_641_026,)\n",
      "Series: 'user_id' [str]\n",
      "[\n",
      "\t\"AHX5ZW5MVQGAQ2O7TASJSPDOMEBA\"\n",
      "\t\"AERHWJJPJQ5WDR6MO3LH4QKXGMZA\"\n",
      "\t\"AG4ANFICOXX7FIZKP6J7VTBR4NYQ\"\n",
      "\t\"AGNCKL6EDUA276HX2S2KTSYNICIQ\"\n",
      "\t\"AGSR6YDU2QK6LS4XAXZZDZGRKM4Q\"\n",
      "\t…\n",
      "\t\"AHDBI2SJVPLXHIZS5GU23DBGQ2CA\"\n",
      "\t\"AFCOGU6WR5ZCZRYGFXHRRXPU2CKQ\"\n",
      "\t\"AEWA4E2RXGCXOGTKRZIUK65XPGXQ\"\n",
      "\t\"AG4GX65RZE7LKCADBIB6CUJHYCCA\"\n",
      "\t\"AH4A42FIHMBFVW27PS2RGGESUQJA\"\n",
      "] | items=shape: (367_052,)\n",
      "Series: 'parent_asin' [str]\n",
      "[\n",
      "\t\"B07QM6NC6G\"\n",
      "\t\"B073S4QRHD\"\n",
      "\t\"B0BPX9HLMN\"\n",
      "\t\"B003D5MZUW\"\n",
      "\t\"B01LXPPHGA\"\n",
      "\t…\n",
      "\t\"B007PWMWPC\"\n",
      "\t\"B0865JTN99\"\n",
      "\t\"B072V2KZ5K\"\n",
      "\t\"B07N2RLF6D\"\n",
      "\t\"B08L785SCF\"\n",
      "]\n",
      "2025-09-28 10:28:57,775 - INFO - [Matrix-User] R(1641026, 367052) nnz=12191484\n",
      "2025-09-28 10:28:57,797 - INFO - [NN-User] fitted on (1641026, 367052) | k=30\n",
      "2025-09-28 10:29:09,501 - INFO - [Saved-USER] /Users/kevin/Documents/GitHub/Python/VESKL/Personal/NEU/NEU/NEU_7275/Prj/Prj_1/APRS_7275_G6/Amazon-Product-Recommendation-System/models/user/Electronics | nnz=12191484\n",
      "2025-09-28 10:29:09,508 - INFO - [USER] Training Beauty_and_Personal_Care\n",
      "2025-09-28 10:29:09,517 - INFO - [Load-User] Reading: Beauty_and_Personal_Care.5core.train.parquet\n",
      "2025-09-28 10:29:10,835 - INFO - [Load-User] shape=(5165289, 5) | users=shape: (729_576,)\n",
      "Series: 'user_id' [str]\n",
      "[\n",
      "\t\"AENBGQAENODHAJDA24XBG73P7SEQ\"\n",
      "\t\"AG44JTOR5SKLJUU2I7G43SJ43GAA\"\n",
      "\t\"AFSW7IOUQXDSWFUJOSLML6DUYTAQ\"\n",
      "\t\"AHXPL4JB65MEFXOZEOCWFLOWHS7A\"\n",
      "\t\"AFHLNT3XXJLF5D6W4GHZVCBD7X6A\"\n",
      "\t…\n",
      "\t\"AFS3MHEKQNEUW6XATILLQL5KWY6Q\"\n",
      "\t\"AHISJHFY3UAIUDVZFW23S33PVLVQ\"\n",
      "\t\"AHGWG6GBK7RZQEWCBDJFAN76LQXQ\"\n",
      "\t\"AHGXKRINDOEVZMBXTZZQCYIJCZXA\"\n",
      "\t\"AEOSTZGC2CRTL3AMECLSMYNLULMA\"\n",
      "] | items=shape: (207_385,)\n",
      "Series: 'parent_asin' [str]\n",
      "[\n",
      "\t\"B097DJJ1LR\"\n",
      "\t\"B087WKJ4ZX\"\n",
      "\t\"B0CB5TK7K9\"\n",
      "\t\"B0818L8PVS\"\n",
      "\t\"B0BHJM9BPT\"\n",
      "\t…\n",
      "\t\"B0BFQTNMHL\"\n",
      "\t\"B08L98TFMS\"\n",
      "\t\"B07VXKZCT3\"\n",
      "\t\"B075D77G5C\"\n",
      "\t\"B00RGDZDDI\"\n",
      "]\n",
      "2025-09-28 10:29:14,583 - INFO - [Matrix-User] R(729576, 207385) nnz=5165289\n",
      "2025-09-28 10:29:14,676 - INFO - [NN-User] fitted on (729576, 207385) | k=30\n",
      "2025-09-28 10:29:20,221 - INFO - [Saved-USER] /Users/kevin/Documents/GitHub/Python/VESKL/Personal/NEU/NEU/NEU_7275/Prj/Prj_1/APRS_7275_G6/Amazon-Product-Recommendation-System/models/user/Beauty_and_Personal_Care | nnz=5165289\n",
      "2025-09-28 10:29:20,224 - INFO - [Summary-USER] Trained=2 OK=2 FAIL=0\n"
     ]
    },
    {
     "data": {
      "application/vnd.microsoft.datawrangler.viewer.v0+json": {
       "columns": [
        {
         "name": "index",
         "rawType": "int64",
         "type": "integer"
        },
        {
         "name": "category",
         "rawType": "object",
         "type": "string"
        },
        {
         "name": "algo",
         "rawType": "object",
         "type": "string"
        },
        {
         "name": "models_dir",
         "rawType": "object",
         "type": "string"
        },
        {
         "name": "k_neighbors",
         "rawType": "int64",
         "type": "integer"
        },
        {
         "name": "mean_center",
         "rawType": "bool",
         "type": "boolean"
        },
        {
         "name": "R_nnz",
         "rawType": "int64",
         "type": "integer"
        },
        {
         "name": "users",
         "rawType": "int64",
         "type": "integer"
        },
        {
         "name": "items",
         "rawType": "int64",
         "type": "integer"
        }
       ],
       "ref": "ab204a01-0e7a-4d72-b185-54e434ee4365",
       "rows": [
        [
         "0",
         "Electronics",
         "user",
         "/Users/kevin/Documents/GitHub/Python/VESKL/Personal/NEU/NEU/NEU_7275/Prj/Prj_1/APRS_7275_G6/Amazon-Product-Recommendation-System/models/user/Electronics",
         "30",
         "True",
         "12191484",
         "1641026",
         "367052"
        ],
        [
         "1",
         "Beauty_and_Personal_Care",
         "user",
         "/Users/kevin/Documents/GitHub/Python/VESKL/Personal/NEU/NEU/NEU_7275/Prj/Prj_1/APRS_7275_G6/Amazon-Product-Recommendation-System/models/user/Beauty_and_Personal_Care",
         "30",
         "True",
         "5165289",
         "729576",
         "207385"
        ]
       ],
       "shape": {
        "columns": 8,
        "rows": 2
       }
      },
      "text/html": [
       "<div>\n",
       "<style scoped>\n",
       "    .dataframe tbody tr th:only-of-type {\n",
       "        vertical-align: middle;\n",
       "    }\n",
       "\n",
       "    .dataframe tbody tr th {\n",
       "        vertical-align: top;\n",
       "    }\n",
       "\n",
       "    .dataframe thead th {\n",
       "        text-align: right;\n",
       "    }\n",
       "</style>\n",
       "<table border=\"1\" class=\"dataframe\">\n",
       "  <thead>\n",
       "    <tr style=\"text-align: right;\">\n",
       "      <th></th>\n",
       "      <th>category</th>\n",
       "      <th>algo</th>\n",
       "      <th>models_dir</th>\n",
       "      <th>k_neighbors</th>\n",
       "      <th>mean_center</th>\n",
       "      <th>R_nnz</th>\n",
       "      <th>users</th>\n",
       "      <th>items</th>\n",
       "    </tr>\n",
       "  </thead>\n",
       "  <tbody>\n",
       "    <tr>\n",
       "      <th>0</th>\n",
       "      <td>Electronics</td>\n",
       "      <td>user</td>\n",
       "      <td>/Users/kevin/Documents/GitHub/Python/VESKL/Per...</td>\n",
       "      <td>30</td>\n",
       "      <td>True</td>\n",
       "      <td>12191484</td>\n",
       "      <td>1641026</td>\n",
       "      <td>367052</td>\n",
       "    </tr>\n",
       "    <tr>\n",
       "      <th>1</th>\n",
       "      <td>Beauty_and_Personal_Care</td>\n",
       "      <td>user</td>\n",
       "      <td>/Users/kevin/Documents/GitHub/Python/VESKL/Per...</td>\n",
       "      <td>30</td>\n",
       "      <td>True</td>\n",
       "      <td>5165289</td>\n",
       "      <td>729576</td>\n",
       "      <td>207385</td>\n",
       "    </tr>\n",
       "  </tbody>\n",
       "</table>\n",
       "</div>"
      ],
      "text/plain": [
       "                   category  algo  \\\n",
       "0               Electronics  user   \n",
       "1  Beauty_and_Personal_Care  user   \n",
       "\n",
       "                                          models_dir  k_neighbors  \\\n",
       "0  /Users/kevin/Documents/GitHub/Python/VESKL/Per...           30   \n",
       "1  /Users/kevin/Documents/GitHub/Python/VESKL/Per...           30   \n",
       "\n",
       "   mean_center     R_nnz    users   items  \n",
       "0         True  12191484  1641026  367052  \n",
       "1         True   5165289   729576  207385  "
      ]
     },
     "metadata": {},
     "output_type": "display_data"
    }
   ],
   "source": [
    "def _save_user_artifacts(out_dir: Path, R, Rc, user_means, user_rev, item_rev, user_idx, item_idx, nn):\n",
    "    out_dir.mkdir(parents=True, exist_ok=True)\n",
    "    save_npz(out_dir / \"R.npz\", R)\n",
    "    if Rc is not None: save_npz(out_dir / \"Rc.npz\", Rc)\n",
    "    np.save(out_dir / \"user_means.npy\", user_means)\n",
    "    with open(out_dir / \"user_rev.pkl\", \"wb\") as f: pickle.dump(user_rev, f)\n",
    "    with open(out_dir / \"item_rev.pkl\", \"wb\") as f: pickle.dump(item_rev, f)\n",
    "    (out_dir / \"user_idx.json\").write_text(json.dumps({str(k): int(v) for k, v in user_idx.items()}))\n",
    "    (out_dir / \"item_idx.json\").write_text(json.dumps({str(k): int(v) for k, v in item_idx.items()}))\n",
    "    with open(out_dir / \"nn_model.pkl\", \"wb\") as f: pickle.dump(nn, f)\n",
    "\n",
    "def train_user_models_for_categories(categories, k_neighbors=30, mean_center=True, models_dir=None, max_users=None, max_items=None):\n",
    "    base = Path(models_dir) if models_dir else MODELS_DIR\n",
    "    out_algo = base / \"user\"; out_algo.mkdir(parents=True, exist_ok=True)\n",
    "    rows = []\n",
    "    for cat in categories:\n",
    "        try:\n",
    "            logger.log_info(f\"[USER] Training {cat}\")\n",
    "            df = load_5core_train_user(cat)\n",
    "            R, Rc, user_idx, item_idx, user_rev, item_rev, user_means = build_user_matrices(\n",
    "                df, mean_center=mean_center, max_users=max_users, max_items=max_items\n",
    "            )\n",
    "            X = Rc if Rc is not None else R\n",
    "            nn = fit_user_neighbors_userbased(X, k_neighbors=k_neighbors)\n",
    "            out_dir = out_algo / cat\n",
    "            _save_user_artifacts(out_dir, R, Rc, user_means, user_rev, item_rev, user_idx, item_idx, nn)\n",
    "            rows.append({\"category\": cat, \"algo\": \"user\", \"models_dir\": str(out_dir),\n",
    "                         \"k_neighbors\": k_neighbors, \"mean_center\": mean_center,\n",
    "                         \"R_nnz\": int(R.nnz), \"users\": len(user_rev), \"items\": len(item_rev)})\n",
    "            logger.log_info(f\"[Saved-USER] {out_dir} | nnz={R.nnz}\")\n",
    "        except Exception as e:\n",
    "            logger.log_exception(f\"[Error-USER] {cat}: {e}\")\n",
    "            rows.append({\"category\": cat, \"algo\": \"user\", \"models_dir\": None,\n",
    "                         \"k_neighbors\": k_neighbors, \"mean_center\": mean_center, \"error\": str(e)})\n",
    "    summary = pd.DataFrame(rows)\n",
    "    logger.log_info(f\"[Summary-USER] Trained={len(rows)} OK={summary['models_dir'].notna().sum()} FAIL={summary['models_dir'].isna().sum()}\")\n",
    "    return summary\n",
    "\n",
    "summary_user = train_user_models_for_categories(CATEGORY, k_neighbors=K_NEIGHBORS, mean_center=MEAN_CENTER, max_users=MAX_USERS, max_items=MAX_ITEMS)\n",
    "display(summary_user)\n"
   ]
  },
  {
   "cell_type": "markdown",
   "metadata": {},
   "source": [
    "#### Receive UI request then using models to reply"
   ]
  },
  {
   "cell_type": "code",
   "execution_count": 30,
   "metadata": {},
   "outputs": [],
   "source": [
    "def unit_test_ui_user_recommend(user_id: str, n_recs: int = 5, k_neighbors: int | None = None,\n",
    "                                models_dir: str | Path | None = None, category: str | None = None):\n",
    "    \"\"\"Simulate UI call for USER-based CF: load artifacts, return Top-N for user_id.\"\"\"\n",
    "    cat = category or CATEGORY\n",
    "    md = models_dir if models_dir else (MODELS_DIR / \"user\" / cat)\n",
    "    logger.log_info(f\"[UnitTest-UI-USER] model_dir={md} | user_id={user_id} | n_recs={n_recs} | k={k_neighbors}\")\n",
    "\n",
    "    recs = recommend_user_ui(user_id=user_id, n_recs=n_recs, k_neighbors=k_neighbors,\n",
    "                             models_dir=md, category=cat)\n",
    "\n",
    "    # basic checks (works for polars or pandas DataFrame-like objects)\n",
    "    cols = set(recs.columns)\n",
    "    assert {\"parent_asin\", \"score\"}.issubset(cols), \"recs missing required columns\"\n",
    "    assert len(recs) <= n_recs, f\"recs length should be ≤ {n_recs}\"\n",
    "\n",
    "    logger.log_info(f\"[UnitTest-UI-USER] returned {len(recs)} items ✅\")\n",
    "    display(recs)\n",
    "    return recs\n"
   ]
  },
  {
   "cell_type": "markdown",
   "metadata": {},
   "source": [
    "### Task: Unit test"
   ]
  },
  {
   "cell_type": "markdown",
   "metadata": {},
   "source": [
    "#### Receive UI request then using models to reply"
   ]
  },
  {
   "cell_type": "code",
   "execution_count": 31,
   "metadata": {},
   "outputs": [
    {
     "name": "stderr",
     "output_type": "stream",
     "text": [
      "2025-09-28 10:30:05,615 - INFO - [UnitTest-UI-USER] model_dir=/Users/kevin/Documents/GitHub/Python/VESKL/Personal/NEU/NEU/NEU_7275/Prj/Prj_1/APRS_7275_G6/Amazon-Product-Recommendation-System/models/user/Electronics | user_id=AE222HFVDJ4TJ4V2LDRIAMQM2RPA | n_recs=5 | k=30\n",
      "2025-09-28 10:30:08,536 - INFO - [UnitTest-UI-USER] returned 5 items ✅\n"
     ]
    },
    {
     "data": {
      "text/html": [
       "<div><style>\n",
       ".dataframe > thead > tr,\n",
       ".dataframe > tbody > tr {\n",
       "  text-align: right;\n",
       "  white-space: pre-wrap;\n",
       "}\n",
       "</style>\n",
       "<small>shape: (5, 2)</small><table border=\"1\" class=\"dataframe\"><thead><tr><th>parent_asin</th><th>score</th></tr><tr><td>str</td><td>f64</td></tr></thead><tbody><tr><td>&quot;B00KQEJZGA&quot;</td><td>4.549891</td></tr><tr><td>&quot;B000FCIJAQ&quot;</td><td>4.543452</td></tr><tr><td>&quot;B00CDJSIMS&quot;</td><td>4.543452</td></tr><tr><td>&quot;B0765YZMVY&quot;</td><td>4.543452</td></tr><tr><td>&quot;B0077SZO7W&quot;</td><td>4.543452</td></tr></tbody></table></div>"
      ],
      "text/plain": [
       "shape: (5, 2)\n",
       "┌─────────────┬──────────┐\n",
       "│ parent_asin ┆ score    │\n",
       "│ ---         ┆ ---      │\n",
       "│ str         ┆ f64      │\n",
       "╞═════════════╪══════════╡\n",
       "│ B00KQEJZGA  ┆ 4.549891 │\n",
       "│ B000FCIJAQ  ┆ 4.543452 │\n",
       "│ B00CDJSIMS  ┆ 4.543452 │\n",
       "│ B0765YZMVY  ┆ 4.543452 │\n",
       "│ B0077SZO7W  ┆ 4.543452 │\n",
       "└─────────────┴──────────┘"
      ]
     },
     "metadata": {},
     "output_type": "display_data"
    },
    {
     "data": {
      "text/html": [
       "<div><style>\n",
       ".dataframe > thead > tr,\n",
       ".dataframe > tbody > tr {\n",
       "  text-align: right;\n",
       "  white-space: pre-wrap;\n",
       "}\n",
       "</style>\n",
       "<small>shape: (5, 2)</small><table border=\"1\" class=\"dataframe\"><thead><tr><th>parent_asin</th><th>score</th></tr><tr><td>str</td><td>f64</td></tr></thead><tbody><tr><td>&quot;B00KQEJZGA&quot;</td><td>4.549891</td></tr><tr><td>&quot;B000FCIJAQ&quot;</td><td>4.543452</td></tr><tr><td>&quot;B00CDJSIMS&quot;</td><td>4.543452</td></tr><tr><td>&quot;B0765YZMVY&quot;</td><td>4.543452</td></tr><tr><td>&quot;B0077SZO7W&quot;</td><td>4.543452</td></tr></tbody></table></div>"
      ],
      "text/plain": [
       "shape: (5, 2)\n",
       "┌─────────────┬──────────┐\n",
       "│ parent_asin ┆ score    │\n",
       "│ ---         ┆ ---      │\n",
       "│ str         ┆ f64      │\n",
       "╞═════════════╪══════════╡\n",
       "│ B00KQEJZGA  ┆ 4.549891 │\n",
       "│ B000FCIJAQ  ┆ 4.543452 │\n",
       "│ B00CDJSIMS  ┆ 4.543452 │\n",
       "│ B0765YZMVY  ┆ 4.543452 │\n",
       "│ B0077SZO7W  ┆ 4.543452 │\n",
       "└─────────────┴──────────┘"
      ]
     },
     "execution_count": 31,
     "metadata": {},
     "output_type": "execute_result"
    }
   ],
   "source": [
    "unit_test_ui_user_recommend(user_id=\"AE222HFVDJ4TJ4V2LDRIAMQM2RPA\", n_recs=5, k_neighbors=30, category=CATEGORY[0])"
   ]
  }
 ],
 "metadata": {
  "kernelspec": {
   "display_name": ".venv",
   "language": "python",
   "name": "python3"
  },
  "language_info": {
   "codemirror_mode": {
    "name": "ipython",
    "version": 3
   },
   "file_extension": ".py",
   "mimetype": "text/x-python",
   "name": "python",
   "nbconvert_exporter": "python",
   "pygments_lexer": "ipython3",
   "version": "3.13.7"
  }
 },
 "nbformat": 4,
 "nbformat_minor": 2
}
